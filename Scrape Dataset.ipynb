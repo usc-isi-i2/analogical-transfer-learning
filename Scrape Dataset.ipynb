{
 "cells": [
  {
   "cell_type": "markdown",
   "id": "422d4174",
   "metadata": {},
   "source": [
    "### Scarping MoralStories.com"
   ]
  },
  {
   "cell_type": "code",
   "execution_count": 2,
   "id": "25d8364a",
   "metadata": {
    "scrolled": true
   },
   "outputs": [],
   "source": [
    "from bs4 import BeautifulSoup\n",
    "import requests\n",
    "import pandas\n",
    "import matplotlib.pyplot as plt\n",
    "from collections import Counter"
   ]
  },
  {
   "cell_type": "code",
   "execution_count": 51,
   "id": "ea47b57d",
   "metadata": {
    "scrolled": true
   },
   "outputs": [],
   "source": [
    "doc_url = \"https://www.moralstories.org/page/\"\n",
    "\n",
    "urls = []\n",
    "categories = []\n",
    "tags = []\n",
    "\n",
    "\n",
    "with requests.Session() as session:\n",
    "    \n",
    "    for pg in range(1, 23):\n",
    "        #print(\"Getting Page \" + pg)\n",
    "    \n",
    "        result = session.get(doc_url + str(pg), headers={\"User-Agent\": \"Mozilla/5.0\"})\n",
    "        soup = BeautifulSoup(result.text, 'lxml')\n",
    "        main_divs = soup.find(class_=\"posts\").find_all(class_=\"post-preview\")\n",
    "\n",
    "        for title in main_divs:\n",
    "            urls.append(title.find('a')['href'])\n",
    "            tags.append([class_.replace(\"tag-\", \"\") for class_ in title['class'] if class_.startswith(\"tag-\")])\n",
    "            categories.append([class_.replace(\"category-\", \"\") for class_ in title['class'] if class_.startswith(\"category-\")])\n",
    "            "
   ]
  },
  {
   "cell_type": "code",
   "execution_count": 52,
   "id": "4b23f6bd",
   "metadata": {
    "scrolled": false
   },
   "outputs": [
    {
     "name": "stdout",
     "output_type": "stream",
     "text": [
      "                                                 url      category  \\\n",
      "0  https://www.moralstories.org/tenali-rama-and-t...   [education]   \n",
      "1  https://www.moralstories.org/the-shepherd-boy-...      [fables]   \n",
      "2     https://www.moralstories.org/a-kings-painting/  [motivation]   \n",
      "3  https://www.moralstories.org/a-limit-of-your-k...        [life]   \n",
      "4  https://www.moralstories.org/the-pig-and-the-s...      [fables]   \n",
      "\n",
      "                         tag                          title  \\\n",
      "0        [fool, learn, work]     Tenali Rama and the Trader   \n",
      "1                  [honesty]  The Shepherd Boy and the Wolf   \n",
      "2  [clever, learn, weakness]              A King’s Painting   \n",
      "3           [help, kindness]       A limit of your Kindness   \n",
      "4              [kids, learn]          The Pig and The Sheep   \n",
      "\n",
      "                                               story  \\\n",
      "0  King Krishnadevaraya loved horses and had a co...   \n",
      "1  A Shepherd Boy tended his master’s Sheep near ...   \n",
      "2  Once upon a time, there was a Kingdom. The kin...   \n",
      "3  Recently Steve had a car accident. So he put h...   \n",
      "4  One day a shepherd discovered a fat Pig in the...   \n",
      "\n",
      "                                               moral  \n",
      "0  Moral: Do not believe in strangers blindly. Th...  \n",
      "1  Moral: If you keep lying, no one will believe ...  \n",
      "2  Moral: We should always think positive of othe...  \n",
      "3  Moral: Helping others is not a bad thing at al...  \n",
      "4  Moral: It is easy to be brave when there is no...  \n"
     ]
    }
   ],
   "source": [
    "titles = []\n",
    "stories = []\n",
    "morals = []\n",
    "\n",
    "pandas.set_option(\"display.max_rows\", None, \"display.max_columns\", None)\n",
    "\n",
    "\n",
    "with requests.Session() as session:\n",
    "    \n",
    "    for url in urls:\n",
    "        #print(\"Getting \" + url)\n",
    "        result = session.get(url, headers={\"User-Agent\": \"Mozilla/5.0\"})\n",
    "        soup = BeautifulSoup(result.text, 'lxml')\n",
    "        titles.append(soup.find(class_=\"post-title\").find(\"a\").get_text())\n",
    "\n",
    "        paras = soup.find(class_=\"post-content\").find_all(\"p\", recursive=False)\n",
    "        stories.append(\" \".join([para.get_text() for para in paras]))\n",
    "        \n",
    "        moral = soup.find(class_=\"post-content\").find(\"blockquote\")\n",
    "        morals.append(moral.get_text() if moral != None else \"\")\n",
    "        \n",
    "\n",
    "        "
   ]
  },
  {
   "cell_type": "code",
   "execution_count": 58,
   "id": "007ed5b0",
   "metadata": {},
   "outputs": [
    {
     "name": "stdout",
     "output_type": "stream",
     "text": [
      "                                                 url      category  \\\n",
      "0  https://www.moralstories.org/tenali-rama-and-t...   [education]   \n",
      "1  https://www.moralstories.org/the-shepherd-boy-...      [fables]   \n",
      "2     https://www.moralstories.org/a-kings-painting/  [motivation]   \n",
      "3  https://www.moralstories.org/a-limit-of-your-k...        [life]   \n",
      "4  https://www.moralstories.org/the-pig-and-the-s...      [fables]   \n",
      "\n",
      "                         tag                          title  \\\n",
      "0        [fool, learn, work]     Tenali Rama and the Trader   \n",
      "1                  [honesty]  The Shepherd Boy and the Wolf   \n",
      "2  [clever, learn, weakness]              A King’s Painting   \n",
      "3           [help, kindness]       A limit of your Kindness   \n",
      "4              [kids, learn]          The Pig and The Sheep   \n",
      "\n",
      "                                               story  \\\n",
      "0  King Krishnadevaraya loved horses and had a co...   \n",
      "1  A Shepherd Boy tended his master’s Sheep near ...   \n",
      "2  Once upon a time, there was a Kingdom. The kin...   \n",
      "3  Recently Steve had a car accident. So he put h...   \n",
      "4  One day a shepherd discovered a fat Pig in the...   \n",
      "\n",
      "                                               moral  \n",
      "0  Moral: Do not believe in strangers blindly. Th...  \n",
      "1  Moral: If you keep lying, no one will believe ...  \n",
      "2  Moral: We should always think positive of othe...  \n",
      "3  Moral: Helping others is not a bad thing at al...  \n",
      "4  Moral: It is easy to be brave when there is no...  \n"
     ]
    }
   ],
   "source": [
    "        \n",
    "data = pandas.DataFrame({\n",
    "    \"url\": urls,\n",
    "    \"category\": categories,\n",
    "    \"tag\": tags,\n",
    "    \"title\": titles,\n",
    "    \"story\": stories,\n",
    "    \"moral\": morals\n",
    "})\n",
    "\n",
    "print(data.head())"
   ]
  },
  {
   "cell_type": "code",
   "execution_count": 53,
   "id": "a32193d6",
   "metadata": {
    "scrolled": true
   },
   "outputs": [
    {
     "name": "stdout",
     "output_type": "stream",
     "text": [
      "['education', 'fables', 'family', 'inspiration', 'life', 'love', 'motivation']\n",
      "['akbar-birbal', 'care', 'cheating', 'clever', 'deeds', 'dream', 'fear', 'fool', 'friends', 'funny', 'greed', 'happiness', 'help', 'honesty', 'impression', 'incomplete-love', 'india', 'kids', 'kind', 'kindness', 'lazy', 'learn', 'love', 'loyal', 'marriage', 'mother', 'mythology', 'panchatantra', 'parents', 'patience', 'poor', 'regret', 'respect', 'responsibility', 'self-confidence', 'selfish', 'share', 'study', 'temper', 'unconditional-love', 'unity', 'video', 'weakness', 'work']\n"
     ]
    }
   ],
   "source": [
    "categories_ = [item for sublist in categories for item in sublist]\n",
    "tags_ = [item for sublist in tags for item in sublist]\n",
    "\n",
    "sorted_categories = sorted(set(categories_))\n",
    "sorted_tags = sorted(set(tags_))\n",
    "\n",
    "print(sorted_categories)\n",
    "print(sorted_tags)"
   ]
  },
  {
   "cell_type": "markdown",
   "id": "8c8fd32a",
   "metadata": {},
   "source": [
    "#### Annotated\n",
    " \n",
    "'education', 'family', 'inspiration', 'life', 'love', 'motivation'\n",
    "\n",
    "\n",
    "'care', 'cheating', 'clever', \n",
    "'deeds', 'dream', \n",
    "'fear', 'fool', 'friends', 'funny', \n",
    "'greed', \n",
    "'happiness', 'help', 'honesty', \n",
    "'impression', 'incomplete-love', \n",
    "'kids', 'kind', 'kindness', \n",
    "'lazy', 'learn', 'love', 'loyal', \n",
    "'marriage', 'mother', \n",
    "'parents', 'patience', 'poor', \n",
    "'regret', 'respect', 'responsibility', \n",
    "'self-confidence', 'selfish', 'share', 'study', \n",
    "'temper', \n",
    "'unconditional-love', \n",
    "'unity', \n",
    "'weakness', 'work'\n",
    "\n",
    "\n",
    "envy\n",
    "pride\n",
    "dishonest"
   ]
  },
  {
   "cell_type": "markdown",
   "id": "474b50c5",
   "metadata": {},
   "source": [
    "#### Stats"
   ]
  },
  {
   "cell_type": "code",
   "execution_count": 5,
   "id": "f236891a",
   "metadata": {},
   "outputs": [
    {
     "name": "stdout",
     "output_type": "stream",
     "text": [
      "Number of Stories: 131\n",
      "Number of Categories: 7\n",
      "Number of Tags: 44\n",
      "Total Words: 44661\n",
      "\n",
      "Counts of Categories:\n",
      "Counter({'life': 34, 'fables': 25, 'education': 24, 'family': 20, 'motivation': 17, 'inspiration': 17, 'love': 14})\n"
     ]
    },
    {
     "data": {
      "image/png": "[encoded data removed]",
      "text/plain": [
       "<Figure size 720x360 with 1 Axes>"
      ]
     },
     "metadata": {
      "needs_background": "light"
     },
     "output_type": "display_data"
    },
    {
     "name": "stdout",
     "output_type": "stream",
     "text": [
      "Counts of Tags:\n",
      "Counter({'kids': 35, 'clever': 16, 'responsibility': 16, 'learn': 15, 'parents': 14, 'work': 12, 'care': 11, 'love': 11, 'respect': 10, 'self-confidence': 9, 'akbar-birbal': 9, 'unconditional-love': 9, 'help': 8, 'incomplete-love': 8, 'india': 8, 'honesty': 7, 'kindness': 7, 'greed': 7, 'happiness': 6, 'unity': 6, 'fool': 5, 'weakness': 5, 'deeds': 4, 'funny': 4, 'poor': 4, 'mother': 4, 'friends': 4, 'regret': 3, 'selfish': 2, 'loyal': 2, 'impression': 2, 'cheating': 2, 'panchatantra': 2, 'mythology': 2, 'patience': 2, 'marriage': 1, 'share': 1, 'study': 1, 'kind': 1, 'dream': 1, 'lazy': 1, 'temper': 1, 'video': 1, 'fear': 1})\n"
     ]
    },
    {
     "data": {
      "image/png": "[encoded data removed]",
      "text/plain": [
       "<Figure size 1440x720 with 1 Axes>"
      ]
     },
     "metadata": {
      "needs_background": "light"
     },
     "output_type": "display_data"
    },
    {
     "name": "stdout",
     "output_type": "stream",
     "text": [
      "Words Distribution per Story:\n",
      "                 0\n",
      "count   131.000000\n",
      "mean    340.923664\n",
      "std     261.096965\n",
      "min      77.000000\n",
      "25%     181.000000\n",
      "50%     276.000000\n",
      "75%     402.500000\n",
      "max    1878.000000\n"
     ]
    },
    {
     "data": {
      "image/png": "[encoded data removed]",
      "text/plain": [
       "<Figure size 1440x720 with 1 Axes>"
      ]
     },
     "metadata": {
      "needs_background": "light"
     },
     "output_type": "display_data"
    },
    {
     "name": "stdout",
     "output_type": "stream",
     "text": [
      "Sentence Distribution per Story:\n",
      "                0\n",
      "count  131.000000\n",
      "mean    23.038168\n",
      "std     18.774535\n",
      "min      6.000000\n",
      "25%     12.000000\n",
      "50%     18.000000\n",
      "75%     27.000000\n",
      "max    151.000000\n"
     ]
    },
    {
     "data": {
      "image/png": "[encoded data removed]",
      "text/plain": [
       "<Figure size 1440x720 with 1 Axes>"
      ]
     },
     "metadata": {
      "needs_background": "light"
     },
     "output_type": "display_data"
    }
   ],
   "source": [
    "length = [len(story.split(\" \")) for story in stories]\n",
    "length_sen = [len(story.split(\".\")) for story in stories]\n",
    "\n",
    "print(\"Number of Stories:\" , len(stories))\n",
    "print(\"Number of Categories:\" , len(sorted_categories))\n",
    "print(\"Number of Tags:\" , len(sorted_tags))\n",
    "print(\"Total Words:\", sum(length))\n",
    "count = Counter(categories_)\n",
    "count2 = Counter(tags_)\n",
    "\n",
    "print(\"\\nCounts of Categories:\")\n",
    "print(count)\n",
    "\n",
    "plt.rcParams['figure.figsize'] = [10, 5]\n",
    "plt.bar(list(count.keys()), list(count.values()))\n",
    "plt.title(\"Counts of Categories\")\n",
    "plt.ylabel(\"Count\")\n",
    "plt.xlabel(\"Categories\")\n",
    "plt.xticks(rotation=45)\n",
    "plt.show()\n",
    "\n",
    "print(\"Counts of Tags:\")\n",
    "print(count2)\n",
    "\n",
    "plt.rcParams['figure.figsize'] = [20, 10]\n",
    "plt.bar(list(count2.keys()), list(count2.values()))\n",
    "plt.title(\"Counts of Tags\")\n",
    "plt.ylabel(\"Count\")\n",
    "plt.xlabel(\"Tags\")\n",
    "plt.xticks(rotation=45)\n",
    "plt.show()\n",
    "\n",
    "\n",
    "\n",
    "\n",
    "print(\"Words Distribution per Story:\")\n",
    "print(pandas.DataFrame(length).describe())\n",
    "plt.scatter(range(0, len(length)),sorted(length))\n",
    "plt.ylabel(\"Number of Words\")\n",
    "plt.xlabel(\"Story ID, Sorted\")\n",
    "plt.show()\n",
    "\n",
    "print(\"Sentence Distribution per Story:\")\n",
    "print(pandas.DataFrame(length_sen).describe())\n",
    "plt.scatter(range(0, len(length_sen)),sorted(length_sen))\n",
    "plt.ylabel(\"Number of Sentences\")\n",
    "plt.xlabel(\"Story ID, Sorted\")\n",
    "plt.show()\n",
    "\n"
   ]
  },
  {
   "cell_type": "code",
   "execution_count": 64,
   "id": "7e44b088",
   "metadata": {
    "scrolled": true
   },
   "outputs": [],
   "source": [
    "data.to_csv('moral_stories_org_scraped.csv', encoding='utf-8')"
   ]
  },
  {
   "cell_type": "code",
   "execution_count": 65,
   "id": "9d53b4ca",
   "metadata": {},
   "outputs": [
    {
     "name": "stdout",
     "output_type": "stream",
     "text": [
      "384\n",
      "384\n"
     ]
    }
   ],
   "source": [
    "\n",
    "sentence_embeddings = model.encode(\"Moral: Do not believe in strangers blindly. The same goes when you do your business with anyone.\")\n",
    "sentence_embeddings2 = model.encode(\"Moral: Do not believe in stranger\")\n",
    "print(len(sentence_embeddings))\n",
    "print(len(sentence_embeddings2))"
   ]
  },
  {
   "cell_type": "code",
   "execution_count": 69,
   "id": "74cf5370",
   "metadata": {},
   "outputs": [
    {
     "name": "stdout",
     "output_type": "stream",
     "text": [
      "0\n",
      "0\n",
      "0\n",
      "1\n",
      "2\n",
      "2\n",
      "2\n",
      "3\n",
      "3\n",
      "4\n",
      "4\n",
      "5\n",
      "5\n",
      "6\n",
      "6\n",
      "7\n",
      "8\n",
      "9\n",
      "9\n",
      "10\n",
      "10\n",
      "10\n",
      "11\n",
      "11\n",
      "12\n",
      "12\n",
      "13\n",
      "13\n",
      "14\n",
      "14\n",
      "15\n",
      "15\n",
      "16\n",
      "16\n",
      "17\n",
      "18\n",
      "18\n",
      "19\n",
      "19\n",
      "19\n",
      "20\n",
      "21\n",
      "21\n",
      "21\n",
      "22\n",
      "22\n",
      "22\n",
      "23\n",
      "23\n",
      "24\n",
      "24\n",
      "24\n",
      "25\n",
      "25\n",
      "26\n",
      "26\n",
      "26\n",
      "27\n",
      "27\n",
      "27\n",
      "28\n",
      "28\n",
      "29\n",
      "29\n",
      "30\n",
      "30\n",
      "31\n",
      "31\n",
      "32\n",
      "32\n",
      "33\n",
      "34\n",
      "34\n",
      "34\n",
      "35\n",
      "36\n",
      "36\n",
      "37\n",
      "37\n",
      "37\n",
      "38\n",
      "38\n",
      "38\n",
      "39\n",
      "39\n",
      "39\n",
      "40\n",
      "40\n",
      "41\n",
      "42\n",
      "42\n",
      "43\n",
      "44\n",
      "45\n",
      "45\n",
      "45\n",
      "46\n",
      "46\n",
      "46\n",
      "46\n",
      "47\n",
      "47\n",
      "47\n",
      "48\n",
      "48\n",
      "48\n",
      "49\n",
      "49\n",
      "50\n",
      "50\n",
      "50\n",
      "51\n",
      "51\n",
      "52\n",
      "52\n",
      "52\n",
      "52\n",
      "53\n",
      "53\n",
      "54\n",
      "54\n",
      "54\n",
      "55\n",
      "55\n",
      "55\n",
      "56\n",
      "56\n",
      "57\n",
      "57\n",
      "58\n",
      "58\n",
      "59\n",
      "59\n",
      "60\n",
      "60\n",
      "60\n",
      "61\n",
      "61\n",
      "61\n",
      "61\n",
      "62\n",
      "62\n",
      "62\n",
      "62\n",
      "63\n",
      "63\n",
      "63\n",
      "64\n",
      "64\n",
      "65\n",
      "65\n",
      "65\n",
      "66\n",
      "66\n",
      "67\n",
      "67\n",
      "67\n",
      "68\n",
      "68\n",
      "69\n",
      "69\n",
      "69\n",
      "70\n",
      "70\n",
      "71\n",
      "71\n",
      "71\n",
      "71\n",
      "72\n",
      "72\n",
      "73\n",
      "73\n",
      "73\n",
      "74\n",
      "74\n",
      "75\n",
      "75\n",
      "76\n",
      "76\n",
      "77\n",
      "77\n",
      "78\n",
      "78\n",
      "78\n",
      "79\n",
      "79\n",
      "79\n",
      "79\n",
      "80\n",
      "80\n",
      "81\n",
      "82\n",
      "83\n",
      "84\n",
      "84\n",
      "84\n",
      "85\n",
      "85\n",
      "85\n",
      "86\n",
      "86\n",
      "86\n",
      "87\n",
      "87\n",
      "87\n",
      "88\n",
      "89\n",
      "89\n",
      "90\n",
      "91\n",
      "91\n",
      "92\n",
      "92\n",
      "93\n",
      "93\n",
      "94\n",
      "95\n",
      "95\n",
      "96\n",
      "96\n",
      "96\n",
      "97\n",
      "97\n",
      "98\n",
      "98\n",
      "99\n",
      "99\n",
      "99\n",
      "100\n",
      "100\n",
      "101\n",
      "101\n",
      "102\n",
      "103\n",
      "104\n",
      "104\n",
      "105\n",
      "105\n",
      "106\n",
      "106\n",
      "107\n",
      "108\n",
      "109\n",
      "110\n",
      "110\n",
      "110\n",
      "110\n",
      "111\n",
      "112\n",
      "112\n",
      "113\n",
      "113\n",
      "113\n",
      "114\n",
      "115\n",
      "116\n",
      "116\n",
      "116\n",
      "117\n",
      "118\n",
      "119\n",
      "120\n",
      "120\n",
      "121\n",
      "121\n",
      "122\n",
      "122\n",
      "123\n",
      "124\n",
      "124\n",
      "125\n",
      "125\n",
      "125\n",
      "125\n",
      "126\n",
      "127\n",
      "127\n",
      "128\n",
      "129\n",
      "130\n"
     ]
    }
   ],
   "source": [
    "data = data.explode('tag')\n",
    "\n",
    "from sentence_transformers import SentenceTransformer\n",
    "model = SentenceTransformer('all-MiniLM-L6-v2')\n",
    "\n",
    "with open('outputMoralStories3.tsv', 'w', newline='') as f_output:\n",
    "    tsv_output = csv.writer(f_output, delimiter='\\t')\n",
    "    a = list(range(0,384))\n",
    "    #a.append(\"moral\")\n",
    "    a.append(\"class\")\n",
    "    tsv_output.writerow(a)\n",
    "    \n",
    "    for index, row in data.iterrows():\n",
    "        print(index)\n",
    "        b = model.encode(row['moral'].replace(\"Moral:\", \"\")).tolist()\n",
    "        #b.append(row['moral'].replace(\"Moral:\", \"\").replace(\" \", \"_\"))\n",
    "        b.append(row['tag'])\n",
    "        tsv_output.writerow(b)"
   ]
  },
  {
   "cell_type": "markdown",
   "id": "223e47a7",
   "metadata": {},
   "source": [
    "### Scraping AesopMorals.com"
   ]
  },
  {
   "cell_type": "code",
   "execution_count": 2,
   "id": "54947ec5",
   "metadata": {
    "scrolled": false
   },
   "outputs": [
    {
     "name": "stdout",
     "output_type": "stream",
     "text": [
      "                                                 url  \\\n",
      "0  https://www.litscape.com/author/Aesop/Jupiter_...   \n",
      "1  https://www.litscape.com/author/Aesop/The_Ants...   \n",
      "2  https://www.litscape.com/author/Aesop/The_Ass_...   \n",
      "3  https://www.litscape.com/author/Aesop/The_Ass_...   \n",
      "4  https://www.litscape.com/author/Aesop/The_Ass_...   \n",
      "\n",
      "                          title  \\\n",
      "0        Jupiter and the Monkey   \n",
      "1  The Ants and the Grasshopper   \n",
      "2        The Ass and His Driver   \n",
      "3     The Ass and His Purchaser   \n",
      "4        The Ass and His Shadow   \n",
      "\n",
      "                                               story  \\\n",
      "0  JUPITER ISSUED a proclamation to all the beast...   \n",
      "1  THE ANTS were employing a fine winter's day in...   \n",
      "2  AN ASS, being driven along a high road, sudden...   \n",
      "3  A MAN wished to purchase an Ass, and agreed wi...   \n",
      "4  A TRAVELER hired an Ass to convey him to a dis...   \n",
      "\n",
      "                                               moral  \n",
      "0  Moral:A mother's love blinds her to many imper...  \n",
      "1                        Moral:Idleness brings want.  \n",
      "2         Moral:The perverse generally come to harm.  \n",
      "3      Moral:A man is known by the company he keeps.  \n",
      "4  Moral:In quarreling about the shadow, we often...  \n"
     ]
    }
   ],
   "source": [
    "doc_url = \"https://www.litscape.com/indexes/Aesop/Titles.html\"\n",
    "\n",
    "urls = []\n",
    "categories = []\n",
    "tags = []\n",
    "titles = []\n",
    "stories = []\n",
    "morals = []\n",
    "\n",
    "\n",
    "with requests.Session() as session:\n",
    "    \n",
    "    result = session.get(doc_url, headers={\"User-Agent\": \"Mozilla/5.0\"})\n",
    "    soup = BeautifulSoup(result.text, 'lxml')\n",
    "    main_divs = soup.find(class_=\"multicolumn width300\").find_all(\"a\")\n",
    "\n",
    "    for title in main_divs:\n",
    "        url = \"https://www.litscape.com\" + title[\"href\"]\n",
    "        urls.append(url)\n",
    "        \n",
    "        #print(url)\n",
    "\n",
    "        result = session.get(url, headers={\"User-Agent\": \"Mozilla/5.0\"})\n",
    "        soup = BeautifulSoup(result.text, 'lxml')\n",
    "        \n",
    "        titles.append(soup.find(class_=\"content\").find(\"h1\").get_text())\n",
    "        \n",
    "        stories.append(\" \".join([stry.get_text() for stry in soup.find(class_=\"content\").find_all(\"p\", class_=None)[1:]]))\n",
    "        \n",
    "        moral = soup.find(class_=\"content\").find(\"p\", class_=\"moral\")\n",
    "        morals.append(moral.get_text() if moral != None else \"\")\n",
    "        \n",
    "data2 = pandas.DataFrame({\n",
    "    \"url\": urls,\n",
    "    \"title\": titles,\n",
    "    \"story\": stories,\n",
    "    \"moral\": morals\n",
    "})\n",
    "    \n",
    "        \n",
    "print(data2.head())            "
   ]
  },
  {
   "cell_type": "code",
   "execution_count": 7,
   "id": "8b9147d4",
   "metadata": {
    "scrolled": false
   },
   "outputs": [
    {
     "name": "stdout",
     "output_type": "stream",
     "text": [
      "Number of Stories: 237\n",
      "Total Words: 24728\n",
      "Words Distribution per Story:\n",
      "                0\n",
      "count  237.000000\n",
      "mean   104.337553\n",
      "std     46.539440\n",
      "min     37.000000\n",
      "25%     71.000000\n",
      "50%     96.000000\n",
      "75%    127.000000\n",
      "max    354.000000\n"
     ]
    },
    {
     "data": {
      "image/png": "[encoded data removed]",
      "text/plain": [
       "<Figure size 1440x720 with 1 Axes>"
      ]
     },
     "metadata": {
      "needs_background": "light"
     },
     "output_type": "display_data"
    },
    {
     "name": "stdout",
     "output_type": "stream",
     "text": [
      "Sentence Distribution per Story:\n",
      "                0\n",
      "count  237.000000\n",
      "mean     5.177215\n",
      "std      2.103827\n",
      "min      2.000000\n",
      "25%      4.000000\n",
      "50%      5.000000\n",
      "75%      6.000000\n",
      "max     17.000000\n"
     ]
    },
    {
     "data": {
      "image/png": "[encoded data removed]",
      "text/plain": [
       "<Figure size 1440x720 with 1 Axes>"
      ]
     },
     "metadata": {
      "needs_background": "light"
     },
     "output_type": "display_data"
    }
   ],
   "source": [
    "length = [len(story.split(\" \")) for story in stories]\n",
    "length_sen = [len(story.split(\".\")) for story in stories]\n",
    "\n",
    "print(\"Number of Stories:\" , len(stories))\n",
    "print(\"Total Words:\", sum(length))\n",
    "\n",
    "\n",
    "plt.rcParams['figure.figsize'] = [20, 10]\n",
    "\n",
    "\n",
    "\n",
    "print(\"Words Distribution per Story:\")\n",
    "print(pandas.DataFrame(length).describe())\n",
    "plt.scatter(range(0, len(length)),sorted(length))\n",
    "plt.ylabel(\"Number of Words\")\n",
    "plt.xlabel(\"Story ID, Sorted\")\n",
    "plt.show()\n",
    "\n",
    "print(\"Sentence Distribution per Story:\")\n",
    "print(pandas.DataFrame(length_sen).describe())\n",
    "plt.scatter(range(0, len(length_sen)),sorted(length_sen))\n",
    "plt.ylabel(\"Number of Sentences\")\n",
    "plt.xlabel(\"Story ID, Sorted\")\n",
    "plt.show()"
   ]
  },
  {
   "cell_type": "code",
   "execution_count": 87,
   "id": "c970d5a4",
   "metadata": {
    "scrolled": true
   },
   "outputs": [],
   "source": [
    "data2.to_csv('aesop_morals_com_scraped.csv', encoding='utf-8')"
   ]
  }
 ],
 "metadata": {
  "kernelspec": {
   "display_name": "ytkern",
   "language": "python",
   "name": "ytkern"
  },
  "language_info": {
   "codemirror_mode": {
    "name": "ipython",
    "version": 3
   },
   "file_extension": ".py",
   "mimetype": "text/x-python",
   "name": "python",
   "nbconvert_exporter": "python",
   "pygments_lexer": "ipython3",
   "version": "3.7.11"
  }
 },
 "nbformat": 4,
 "nbformat_minor": 5
}
